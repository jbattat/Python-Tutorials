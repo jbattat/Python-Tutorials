{
 "cells": [
  {
   "cell_type": "markdown",
   "metadata": {},
   "source": [
    "**Interfacing to Arduino**\n",
    "\n",
    "First, start by reading a single value from the serial buffer.\n",
    "This assumes that the Arduino is connected to this computer (e.g. via usb cable), and that the arduino is sending data via serial (e.g. via Serial.println()). See e.g. `broadcastA0.ino`, or the code below:\n",
    "\n",
    "```\n",
    "int val;\n",
    "\n",
    "void setup() {\n",
    "  // initialize serial communication at 9600 bits per second:\n",
    "  Serial.begin(9600);\n",
    "}\n",
    "\n",
    "void loop() {\n",
    "  val = analogRead(0);\n",
    "  Serial.println(val);\n",
    "  delay(500);\n",
    "}\n",
    "```\n"
   ]
  },
  {
   "cell_type": "code",
   "execution_count": null,
   "metadata": {},
   "outputs": [],
   "source": [
    "# Import various python modules that you will need\n",
    "import serial\n",
    "import sys\n",
    "\n",
    "# Change this to the port for your setup\n",
    "port = '/dev/cu.usbserial-01C2EB67'"
   ]
  },
  {
   "cell_type": "code",
   "execution_count": null,
   "metadata": {},
   "outputs": [],
   "source": [
    "# Establish a serial connection between your computer and the arduino\n",
    "try:\n",
    "    ser = serial.Serial(port, baudrate=9600, timeout=5)\n",
    "except:\n",
    "    print('error: could not open serial connection...')\n",
    "    sys.exit()\n",
    "\n",
    "# Read a value from the serial connection (convert reading to an integer)\n",
    "# The Arduino sends values from 0 to 1023 = (2**10)-1 (it has a 10-bit analog to digital converter)\n",
    "val = int(ser.readline())\n",
    "\n",
    "# Print value to screen\n",
    "print(f\"val = {val}\")\n",
    "\n",
    "ser.close()"
   ]
  },
  {
   "cell_type": "markdown",
   "metadata": {},
   "source": [
    "Next, read 10 values from the serial monitor in a loop and print each one"
   ]
  },
  {
   "cell_type": "code",
   "execution_count": null,
   "metadata": {},
   "outputs": [],
   "source": [
    "try:\n",
    "    ser = serial.Serial(port, baudrate=9600, timeout=5)\n",
    "except:\n",
    "    print('error: could not open serial connection...')\n",
    "    sys.exit()\n",
    "    \n",
    "for ii in range(10):\n",
    "    val = int(ser.readline())\n",
    "    print(f\"val = {val}\")\n",
    "\n",
    "ser.close()"
   ]
  },
  {
   "cell_type": "markdown",
   "metadata": {},
   "source": [
    "Next, read 10 values from the serial monitor, save the values into a list, and then print all 10 values"
   ]
  },
  {
   "cell_type": "code",
   "execution_count": null,
   "metadata": {},
   "outputs": [],
   "source": [
    "try:\n",
    "    ser = serial.Serial(port, baudrate=9600, timeout=5)\n",
    "except:\n",
    "    print('error: could not open serial connection...')\n",
    "    sys.exit()\n",
    "    \n",
    "vals = []  # create an empty list (will append new readings to it)  \n",
    "for ii in range(10):\n",
    "    vals.append(int(ser.readline()))\n",
    "\n",
    "print(vals)\n",
    "ser.close()"
   ]
  },
  {
   "cell_type": "markdown",
   "metadata": {},
   "source": [
    "Next, read 10 values then plot the values"
   ]
  },
  {
   "cell_type": "code",
   "execution_count": null,
   "metadata": {},
   "outputs": [],
   "source": [
    "import matplotlib.pyplot as plt\n",
    "\n",
    "try:\n",
    "    ser = serial.Serial(port, baudrate=9600, timeout=5)\n",
    "except:\n",
    "    print('error: could not open serial connection...')\n",
    "    sys.exit()\n",
    "    \n",
    "vals = []  # create an empty list (will append new readings to it)  \n",
    "for ii in range(10):\n",
    "    vals.append(int(ser.readline()))\n",
    "\n",
    "ser.close()\n",
    "\n",
    "plt.plot(vals)\n"
   ]
  },
  {
   "cell_type": "markdown",
   "metadata": {},
   "source": [
    "Next, read and plot values in real time"
   ]
  },
  {
   "cell_type": "code",
   "execution_count": null,
   "metadata": {},
   "outputs": [],
   "source": [
    "import matplotlib.pylab as plt\n",
    "from IPython import display\n",
    "import serial\n",
    "%matplotlib inline\n",
    "\n",
    "s = serial.Serial(port, baudrate=9600, timeout=5) # open serial port; port name will have to be changed on different computers\n",
    "npts = 100 # number of data points to collect\n",
    "\n",
    "# Set up the plot (do this only once)\n",
    "fig1=plt.figure(figsize=(15,8))  # create a plot figure\n",
    "plt.xlim([-1,npts+1])            # set the x and y range\n",
    "plt.ylim([-10,1024])             # 10-bit adc so max reading will be 1023\n",
    "plt.xlabel('Reading number')     # label the x-axis\n",
    "plt.ylabel('ADC value')          # label the y-axis\n",
    "\n",
    "n=0\n",
    "while n < npts: # mainloop\n",
    "    val = int(s.readline())\n",
    "    plt.scatter(n, val, color='red', linewidth=1, marker=\"o\", s=100, edgecolors='black') # update scatter plot of Channel A\n",
    "    display.display(plt.gcf())      # force the scatter plots to display now\n",
    "    display.clear_output(wait=True) # hold control until the displayed figure is updated\n",
    "    n=n+1\n",
    "print(\"done\")"
   ]
  }
 ],
 "metadata": {
  "kernelspec": {
   "display_name": "Python 3",
   "language": "python",
   "name": "python3"
  },
  "language_info": {
   "codemirror_mode": {
    "name": "ipython",
    "version": 3
   },
   "file_extension": ".py",
   "mimetype": "text/x-python",
   "name": "python",
   "nbconvert_exporter": "python",
   "pygments_lexer": "ipython3",
   "version": "3.8.1"
  }
 },
 "nbformat": 4,
 "nbformat_minor": 4
}
